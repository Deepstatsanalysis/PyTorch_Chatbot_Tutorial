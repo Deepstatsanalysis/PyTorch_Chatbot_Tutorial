{
 "cells": [
  {
   "cell_type": "markdown",
   "metadata": {},
   "source": [
    "## PyTroch Basics"
   ]
  },
  {
   "cell_type": "markdown",
   "metadata": {},
   "source": [
    "This is the first tutorial for learning the basics of the PyTorch and becoming more familiar with it's features."
   ]
  },
  {
   "cell_type": "code",
   "execution_count": 1,
   "metadata": {},
   "outputs": [],
   "source": [
    "import torch\n",
    "import torchvision"
   ]
  },
  {
   "cell_type": "markdown",
   "metadata": {},
   "source": [
    "Checking whether the cuda is available or not (i.e., the code can be run on the GPU ro not)."
   ]
  },
  {
   "cell_type": "code",
   "execution_count": 2,
   "metadata": {},
   "outputs": [
    {
     "name": "stdout",
     "output_type": "stream",
     "text": [
      "True\n"
     ]
    }
   ],
   "source": [
    "print(torch.cuda.is_available())"
   ]
  },
  {
   "cell_type": "markdown",
   "metadata": {},
   "source": [
    "### Torch Tensors"
   ]
  },
  {
   "cell_type": "code",
   "execution_count": 3,
   "metadata": {},
   "outputs": [
    {
     "name": "stdout",
     "output_type": "stream",
     "text": [
      "tensor([2., 2., 1.])\n"
     ]
    }
   ],
   "source": [
    "# This is a 1-D Tensor\n",
    "a = torch.Tensor([2, 2, 1])\n",
    "print(a)"
   ]
  },
  {
   "cell_type": "code",
   "execution_count": 4,
   "metadata": {},
   "outputs": [
    {
     "name": "stdout",
     "output_type": "stream",
     "text": [
      "tensor([[2., 1., 4.],\n",
      "        [3., 5., 4.],\n",
      "        [1., 2., 0.],\n",
      "        [4., 3., 2.]])\n"
     ]
    }
   ],
   "source": [
    "# This is a 2-D Tensor\n",
    "b = torch.Tensor([[2, 1, 4], [3, 5, 4], [1, 2, 0], [4, 3, 2]])\n",
    "print(b)"
   ]
  },
  {
   "cell_type": "code",
   "execution_count": 5,
   "metadata": {},
   "outputs": [
    {
     "name": "stdout",
     "output_type": "stream",
     "text": [
      "torch.Size([3])\n",
      "torch.Size([4, 3])\n",
      "torch.Size([3])\n",
      "torch.Size([4, 3])\n"
     ]
    }
   ],
   "source": [
    "# The size of the tensors\n",
    "print(a.shape)\n",
    "print(b.shape)\n",
    "print(a.size())\n",
    "print(b.size())"
   ]
  },
  {
   "cell_type": "code",
   "execution_count": 6,
   "metadata": {},
   "outputs": [
    {
     "name": "stdout",
     "output_type": "stream",
     "text": [
      "4\n"
     ]
    }
   ],
   "source": [
    "# Get the height/rows of the be\n",
    "print(b.shape[0])"
   ]
  },
  {
   "cell_type": "markdown",
   "metadata": {},
   "source": [
    "Tensors can have different data types. e.g., float32, float64, ..."
   ]
  },
  {
   "cell_type": "code",
   "execution_count": 7,
   "metadata": {},
   "outputs": [
    {
     "name": "stdout",
     "output_type": "stream",
     "text": [
      "tensor([[2., 1., 4.],\n",
      "        [3., 5., 4.],\n",
      "        [1., 2., 0.],\n",
      "        [4., 3., 2.]])\n",
      "torch.float32\n"
     ]
    }
   ],
   "source": [
    "c = torch.FloatTensor([[2, 1, 4], [3, 5, 4], [1, 2, 0], [4, 3, 2]])\n",
    "print(c)\n",
    "print(c.dtype)\n",
    "# c = torch.Tensor([2, 1, 4], dtype=torch.float)"
   ]
  },
  {
   "cell_type": "code",
   "execution_count": 8,
   "metadata": {},
   "outputs": [
    {
     "name": "stdout",
     "output_type": "stream",
     "text": [
      "tensor([[2., 1., 4.],\n",
      "        [3., 5., 4.],\n",
      "        [1., 2., 0.],\n",
      "        [4., 3., 2.]], dtype=torch.float64)\n",
      "torch.float64\n"
     ]
    }
   ],
   "source": [
    "d = torch.DoubleTensor([[2, 1, 4], [3, 5, 4], [1, 2, 0], [4, 3, 2]])\n",
    "print(d)\n",
    "print(d.dtype)\n",
    "# c = torch.Tensor([2, 1, 4], dtype=torch.double)"
   ]
  },
  {
   "cell_type": "code",
   "execution_count": 9,
   "metadata": {},
   "outputs": [
    {
     "name": "stdout",
     "output_type": "stream",
     "text": [
      "tensor(2.5833)\n",
      "tensor(1.5050)\n"
     ]
    }
   ],
   "source": [
    "print(c.mean())\n",
    "print(c.std())"
   ]
  },
  {
   "cell_type": "code",
   "execution_count": 10,
   "metadata": {},
   "outputs": [
    {
     "name": "stdout",
     "output_type": "stream",
     "text": [
      "tensor(2.5833, dtype=torch.float64)\n",
      "tensor(1.5050, dtype=torch.float64)\n"
     ]
    }
   ],
   "source": [
    "print(d.mean())\n",
    "print(d.std())"
   ]
  },
  {
   "cell_type": "markdown",
   "metadata": {},
   "source": [
    "Most of the time, during implementing deep learning algorithm, you need to reshape the tensor. Reshaping th tensor is very easy in the PyTorch."
   ]
  },
  {
   "cell_type": "code",
   "execution_count": 11,
   "metadata": {},
   "outputs": [
    {
     "name": "stdout",
     "output_type": "stream",
     "text": [
      "tensor([[2.],\n",
      "        [1.],\n",
      "        [4.],\n",
      "        [3.],\n",
      "        [5.],\n",
      "        [4.],\n",
      "        [1.],\n",
      "        [2.],\n",
      "        [0.],\n",
      "        [4.],\n",
      "        [3.],\n",
      "        [2.]])\n",
      "tensor([2., 1., 4., 3., 5., 4., 1., 2., 0., 4., 3., 2.])\n",
      "tensor([[2., 1., 4., 3.],\n",
      "        [5., 4., 1., 2.],\n",
      "        [0., 4., 3., 2.]])\n",
      "tensor([[2., 1., 4., 3.],\n",
      "        [5., 4., 1., 2.],\n",
      "        [0., 4., 3., 2.]])\n",
      "tensor([[2.],\n",
      "        [1.],\n",
      "        [4.],\n",
      "        [3.],\n",
      "        [5.],\n",
      "        [4.],\n",
      "        [1.],\n",
      "        [2.],\n",
      "        [0.],\n",
      "        [4.],\n",
      "        [3.],\n",
      "        [2.]])\n",
      "torch.Size([12, 1])\n"
     ]
    }
   ],
   "source": [
    "# Reshape b\n",
    "print(b.view(-1, 1))\n",
    "print(b.view(12))\n",
    "print(b.view(-1, 4))\n",
    "print(b.view(3, 4))\n",
    "\n",
    "# Assigning b a new shape\n",
    "b = b.view(-1, 1)\n",
    "print(b)\n",
    "print(b.shape)"
   ]
  },
  {
   "cell_type": "code",
   "execution_count": 13,
   "metadata": {},
   "outputs": [
    {
     "name": "stdout",
     "output_type": "stream",
     "text": [
      "\n",
      "\n",
      "tensor([[[ 0.6245,  0.3755,  0.4193,  0.4085],\n",
      "         [-0.4841,  2.8343, -0.6126,  1.4198],\n",
      "         [ 0.1093, -0.3879,  0.2456, -0.4983]],\n",
      "\n",
      "        [[ 0.1639, -0.2615, -0.1349,  0.6453],\n",
      "         [-0.4531, -1.0474,  0.2032,  0.6496],\n",
      "         [ 1.1529, -1.2491, -0.2669,  0.7748]]])\n",
      "tensor([[ 0.6245,  0.3755,  0.4193,  0.4085, -0.4841,  2.8343, -0.6126,  1.4198,\n",
      "          0.1093, -0.3879,  0.2456, -0.4983],\n",
      "        [ 0.1639, -0.2615, -0.1349,  0.6453, -0.4531, -1.0474,  0.2032,  0.6496,\n",
      "          1.1529, -1.2491, -0.2669,  0.7748]])\n",
      "tensor([[ 0.6245,  0.3755,  0.4193,  0.4085, -0.4841,  2.8343, -0.6126,  1.4198,\n",
      "          0.1093, -0.3879,  0.2456, -0.4983],\n",
      "        [ 0.1639, -0.2615, -0.1349,  0.6453, -0.4531, -1.0474,  0.2032,  0.6496,\n",
      "          1.1529, -1.2491, -0.2669,  0.7748]])\n"
     ]
    }
   ],
   "source": [
    "# We can even reshape 3-D tensors\n",
    "three_dim = torch.randn(2, 3, 4)\n",
    "print('\\n')\n",
    "print(three_dim)\n",
    "print(three_dim.view(2, 12)) # Reshape to 2 rows, 12 columns\n",
    "print(three_dim.view(2, -1))"
   ]
  },
  {
   "cell_type": "markdown",
   "metadata": {},
   "source": [
    "It is very easy to create tensors with random numbers in PyTorch."
   ]
  },
  {
   "cell_type": "code",
   "execution_count": 14,
   "metadata": {},
   "outputs": [
    {
     "name": "stdout",
     "output_type": "stream",
     "text": [
      "tensor([[0.4789, 0.3377, 0.3114, 0.0033],\n",
      "        [0.0157, 0.3440, 0.0574, 0.6555],\n",
      "        [0.4508, 0.1506, 0.7951, 0.5188],\n",
      "        [0.3561, 0.2158, 0.1873, 0.1856]])\n"
     ]
    }
   ],
   "source": [
    "# Create a matrix with random numbers between 0 and 1\n",
    "r = torch.rand(4, 4)\n",
    "print(r)"
   ]
  },
  {
   "cell_type": "code",
   "execution_count": 15,
   "metadata": {},
   "outputs": [
    {
     "name": "stdout",
     "output_type": "stream",
     "text": [
      "tensor([[ 1.2168, -0.4469, -0.3337,  1.5231],\n",
      "        [ 1.5518, -1.5620,  0.8077, -0.5474],\n",
      "        [-0.1191, -0.1836, -0.9880, -0.7081],\n",
      "        [ 1.6474,  0.3013,  0.0343, -0.7250]])\n",
      "torch.float32\n"
     ]
    }
   ],
   "source": [
    "# Create a matrix with random numbers taken from normal distribution with mean 0 and variance 1\n",
    "r2 = torch.randn(4, 4)\n",
    "print(r2)\n",
    "print(r2.dtype)"
   ]
  },
  {
   "cell_type": "code",
   "execution_count": 21,
   "metadata": {},
   "outputs": [
    {
     "name": "stdout",
     "output_type": "stream",
     "text": [
      "tensor([9., 6., 9., 9., 9.])\n",
      "torch.float32\n"
     ]
    }
   ],
   "source": [
    "# Create an array of 5 random integers from values between 6 and 9 (exlusive of 10)\n",
    "in_array = torch.randint(6, 10, (5,))\n",
    "print(in_array)\n",
    "print(in_array.dtype)"
   ]
  },
  {
   "cell_type": "code",
   "execution_count": 22,
   "metadata": {},
   "outputs": [
    {
     "name": "stdout",
     "output_type": "stream",
     "text": [
      "tensor([[8., 6., 9.],\n",
      "        [7., 8., 7.],\n",
      "        [6., 9., 8.]])\n",
      "torch.float32\n"
     ]
    }
   ],
   "source": [
    "# Create a matrix of 3*3 filled with random integers from values between 6 and 9 (exlusive of 10)\n",
    "in_array2 = torch.randint(6, 10, (3, 3))\n",
    "print(in_array2)\n",
    "print(in_array2.dtype)"
   ]
  },
  {
   "cell_type": "code",
   "execution_count": 23,
   "metadata": {},
   "outputs": [
    {
     "name": "stdout",
     "output_type": "stream",
     "text": [
      "5\n",
      "9\n"
     ]
    }
   ],
   "source": [
    "# Get the number of elements in an array\n",
    "print(torch.numel(in_array))\n",
    "# Get the number of elements in an array\n",
    "print(torch.numel(in_array2))"
   ]
  },
  {
   "cell_type": "code",
   "execution_count": 24,
   "metadata": {},
   "outputs": [
    {
     "name": "stdout",
     "output_type": "stream",
     "text": [
      "tensor([[0., 0., 0.],\n",
      "        [0., 0., 0.],\n",
      "        [0., 0., 0.]], dtype=torch.float64)\n",
      "tensor([[1., 1., 1.],\n",
      "        [1., 1., 1.],\n",
      "        [1., 1., 1.]])\n",
      "torch.float32\n"
     ]
    }
   ],
   "source": [
    "# Create a 3*3 matrix of zeros and of type long\n",
    "z = torch.zeros(3, 3, dtype=torch.double)\n",
    "print(z)\n",
    "\n",
    "# Create a 3*3 matrix of ones\n",
    "o = torch.ones(3, 3)\n",
    "print(o)\n",
    "print(o.dtype)"
   ]
  },
  {
   "cell_type": "code",
   "execution_count": 25,
   "metadata": {},
   "outputs": [
    {
     "name": "stdout",
     "output_type": "stream",
     "text": [
      "tensor([[ 0.3533, -0.0631,  1.0018, -0.8785],\n",
      "        [-0.5643,  1.8327, -0.0055, -0.2137],\n",
      "        [-0.1128, -1.0893, -1.2280, -0.7310],\n",
      "        [ 0.5856,  0.2191, -0.1514, -2.3133]], dtype=torch.float64)\n"
     ]
    }
   ],
   "source": [
    "r2_like = torch.randn_like(r2, dtype=torch.double)   # Convert the data type of the tensor\n",
    "print(r2_like)"
   ]
  },
  {
   "cell_type": "code",
   "execution_count": 29,
   "metadata": {},
   "outputs": [
    {
     "name": "stdout",
     "output_type": "stream",
     "text": [
      "tensor([[ 1.6957, -0.1092, -0.0223,  1.5264],\n",
      "        [ 1.5675, -1.2180,  0.8651,  0.1080],\n",
      "        [ 0.3317, -0.0331, -0.1929, -0.1892],\n",
      "        [ 2.0035,  0.5171,  0.2216, -0.5394]])\n"
     ]
    }
   ],
   "source": [
    "# Add two tensors, make sure they are the same size and data type. Otherwise, it throws an error.\n",
    "add_result = torch.add(r, r2)\n",
    "print(add_result)"
   ]
  },
  {
   "cell_type": "code",
   "execution_count": 33,
   "metadata": {},
   "outputs": [
    {
     "name": "stdout",
     "output_type": "stream",
     "text": [
      "tensor([[ 3.1323,  0.9039,  0.9118,  1.5363],\n",
      "        [ 1.6146, -0.1861,  1.0375,  2.0745],\n",
      "        [ 1.6842,  0.4186,  2.1924,  1.3673],\n",
      "        [ 3.0720,  1.1643,  0.7835,  0.0174]])\n"
     ]
    }
   ],
   "source": [
    "# In place addition (change the value of r2).\n",
    "r2.add_(r)  # Same as r2 = torch.add(r, r2)\n",
    "print(r2)"
   ]
  },
  {
   "cell_type": "code",
   "execution_count": 38,
   "metadata": {},
   "outputs": [
    {
     "name": "stdout",
     "output_type": "stream",
     "text": [
      "tensor([ 0.9039, -0.1861,  0.4186,  1.1643])\n",
      "tensor([[ 3.1323,  0.9039],\n",
      "        [ 1.6146, -0.1861],\n",
      "        [ 1.6842,  0.4186],\n",
      "        [ 3.0720,  1.1643]])\n",
      "tensor([[ 3.1323,  0.9039,  0.9118,  1.5363],\n",
      "        [ 1.6146, -0.1861,  1.0375,  2.0745],\n",
      "        [ 1.6842,  0.4186,  2.1924,  1.3673]])\n",
      "tensor([1.6842, 0.4186, 2.1924, 1.3673])\n",
      "tensor(1.3673)\n",
      "1.367262601852417\n"
     ]
    }
   ],
   "source": [
    "# Matrix Slicing in PyTorch\n",
    "print(r2[:, 1])\n",
    "print(r2[:, :2])\n",
    "print(r2[:3, :])\n",
    "print(r2[2, :])\n",
    "num_ten = r2[2, 3]\n",
    "print(num_ten)\n",
    "# Use torch.Tensor.item() to get a Python number from a tensor containing a single value\n",
    "print(num_ten.item())"
   ]
  },
  {
   "cell_type": "markdown",
   "metadata": {},
   "source": [
    "### Numpy Bridge"
   ]
  },
  {
   "cell_type": "markdown",
   "metadata": {},
   "source": [
    "It is easy to convert a torch.Tensor object to numpy array and vice versa."
   ]
  },
  {
   "cell_type": "code",
   "execution_count": 40,
   "metadata": {},
   "outputs": [],
   "source": [
    "import numpy as np"
   ]
  },
  {
   "cell_type": "code",
   "execution_count": 44,
   "metadata": {},
   "outputs": [
    {
     "name": "stdout",
     "output_type": "stream",
     "text": [
      "tensor([1., 1., 1., 1., 1.])\n"
     ]
    }
   ],
   "source": [
    "# Converting a torch tensor to numpy array\n",
    "a = torch.ones(5)\n",
    "print(a)"
   ]
  },
  {
   "cell_type": "code",
   "execution_count": 45,
   "metadata": {},
   "outputs": [
    {
     "name": "stdout",
     "output_type": "stream",
     "text": [
      "[1. 1. 1. 1. 1.]\n"
     ]
    }
   ],
   "source": [
    "b = a.numpy()\n",
    "print(b)"
   ]
  },
  {
   "cell_type": "code",
   "execution_count": 48,
   "metadata": {},
   "outputs": [
    {
     "name": "stdout",
     "output_type": "stream",
     "text": [
      "tensor([2., 2., 2., 2., 2.])\n",
      "[2. 2. 2. 2. 2.]\n"
     ]
    }
   ],
   "source": [
    "a.add_(1)\n",
    "print(a)\n",
    "print(b)    # see how the numpy array changed in value"
   ]
  }
 ],
 "metadata": {
  "kernelspec": {
   "display_name": "Python 3",
   "language": "python",
   "name": "python3"
  },
  "language_info": {
   "codemirror_mode": {
    "name": "ipython",
    "version": 3
   },
   "file_extension": ".py",
   "mimetype": "text/x-python",
   "name": "python",
   "nbconvert_exporter": "python",
   "pygments_lexer": "ipython3",
   "version": "3.7.1"
  }
 },
 "nbformat": 4,
 "nbformat_minor": 2
}
