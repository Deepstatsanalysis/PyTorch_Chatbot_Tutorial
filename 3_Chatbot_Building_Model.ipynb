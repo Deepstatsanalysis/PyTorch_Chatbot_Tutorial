{
 "cells": [
  {
   "cell_type": "markdown",
   "metadata": {},
   "source": [
    "## Building a Chatbot: Pytorch\n",
    "\n",
    "Note: This code has been adapted from https://pytorch.org/tutorials/beginner/chatbot_tutorial.html. We will demonstrate more details and observe the output step by step to have a deeper understanding\n",
    "\n",
    "### Load and trim data"
   ]
  },
  {
   "cell_type": "code",
   "execution_count": 1,
   "metadata": {},
   "outputs": [],
   "source": [
    "import torch\n",
    "import torch.nn as nn\n",
    "from torch import optim\n",
    "import torch.nn.functional as F\n",
    "import csv\n",
    "import random\n",
    "import re\n",
    "import os\n",
    "import unicodedata\n",
    "import codecs\n",
    "import itertools"
   ]
  },
  {
   "cell_type": "code",
   "execution_count": 2,
   "metadata": {},
   "outputs": [],
   "source": [
    "CUDA = torch.cuda.is_available()\n",
    "device = torch.device('cuda' if CUDA else 'cpu')"
   ]
  },
  {
   "cell_type": "code",
   "execution_count": 3,
   "metadata": {},
   "outputs": [
    {
     "name": "stdout",
     "output_type": "stream",
     "text": [
      "b\"Can we make this quick?  Roxanne Korrine and Andrew Barrett are having an incredibly horrendous public break- up on the quad.  Again.\\tWell, I thought we'd start with pronunciation, if that's okay with you.\\r\\n\"\n",
      "b\"Well, I thought we'd start with pronunciation, if that's okay with you.\\tNot the hacking and gagging and spitting part.  Please.\\r\\n\"\n",
      "b\"Not the hacking and gagging and spitting part.  Please.\\tOkay... then how 'bout we try out some French cuisine.  Saturday?  Night?\\r\\n\"\n",
      "b\"You're asking me out.  That's so cute. What's your name again?\\tForget it.\\r\\n\"\n",
      "b\"No, no, it's my fault -- we didn't have a proper introduction ---\\tCameron.\\r\\n\"\n",
      "b\"Cameron.\\tThe thing is, Cameron -- I'm at the mercy of a particularly hideous breed of loser.  My sister.  I can't date until she does.\\r\\n\"\n",
      "b\"The thing is, Cameron -- I'm at the mercy of a particularly hideous breed of loser.  My sister.  I can't date until she does.\\tSeems like she could get a date easy enough...\\r\\n\"\n",
      "b'Why?\\tUnsolved mystery.  She used to be really popular when she started high school, then it was just like she got sick of it or something.\\r\\n'\n"
     ]
    }
   ],
   "source": [
    "## First: Load the question-answer pair dataset.\n",
    "datafile = os.path.join(\"cornell movie-dialogs corpus\", \"formatted_movie_lines.txt\")\n",
    "with open(datafile, 'rb') as file:\n",
    "    lines = file.readlines()\n",
    "\n",
    "for line in lines[:8]:\n",
    "    print(line)"
   ]
  },
  {
   "cell_type": "code",
   "execution_count": 4,
   "metadata": {},
   "outputs": [],
   "source": [
    "# Default word tokens\n",
    "PAD_token = 0  # Used for padding short sentences\n",
    "SOS_token = 1  # Start-of-sentence token\n",
    "EOS_token = 2  # End-of-sentence token\n",
    "\n",
    "class Vocabulary:\n",
    "    def __init__(self, name):\n",
    "        self.name = name\n",
    "        self.trimmed = False\n",
    "        self.word2index = {}\n",
    "        self.word2count = {}\n",
    "        self.index2word = {PAD_token: \"PAD\", SOS_token: \"SOS\", EOS_token: \"EOS\"}\n",
    "        self.num_words = 3  # Count SOS, EOS, PAD\n",
    "        \n",
    "    def addSentence(self, sentence):\n",
    "        for word in sentence.split(' '):\n",
    "            self.addWord(word)\n",
    "\n",
    "    def addWord(self, word):\n",
    "        if word not in self.word2index:\n",
    "            self.word2index[word] = self.num_words\n",
    "            self.word2count[word] = 1\n",
    "            self.index2word[self.num_words] = word\n",
    "            self.num_words += 1\n",
    "        else:\n",
    "            self.word2count[word] += 1\n",
    "\n",
    "    # Remove words below a certain count threshold\n",
    "    def trim(self, min_count):\n",
    "        keep_words = []\n",
    "        for k, v in self.word2count.items():\n",
    "            if v >= min_count:\n",
    "                keep_words.append(k)\n",
    "        \n",
    "        print('keep_words {} / {} = {:.4f}'.format(\n",
    "            len(keep_words), len(self.word2index), len(keep_words) / len(self.word2index)))\n",
    "        \n",
    "        # Reinitialize dictionaries\n",
    "        self.word2index = {}\n",
    "        self.word2count = {}\n",
    "        self.index2word = {PAD_token: \"PAD\", SOS_token: \"SOS\", EOS_token: \"EOS\"}\n",
    "        self.num_words = 3 # Count default tokens\n",
    "\n",
    "        for word in keep_words:\n",
    "            self.addWord(word)\n",
    "        "
   ]
  },
  {
   "cell_type": "code",
   "execution_count": 5,
   "metadata": {},
   "outputs": [],
   "source": [
    "# Turn a Unicode string to plain ASCII\n",
    "def unicodeToAscii(s):\n",
    "    return ''.join(c for c in unicodedata.normalize('NFD', s) if unicodedata.category(c) != 'Mn')"
   ]
  },
  {
   "cell_type": "code",
   "execution_count": 6,
   "metadata": {},
   "outputs": [
    {
     "data": {
      "text/plain": [
       "'Quebec, Francois, ...'"
      ]
     },
     "execution_count": 6,
     "metadata": {},
     "output_type": "execute_result"
    }
   ],
   "source": [
    "## Test the function\n",
    "unicodeToAscii('Québec, François, ...')"
   ]
  },
  {
   "cell_type": "code",
   "execution_count": 7,
   "metadata": {},
   "outputs": [],
   "source": [
    "# Lowercase, trim, and remove non-letter characters\n",
    "def normalizeString(s):\n",
    "    s = unicodeToAscii(s.lower().strip())\n",
    "    s = re.sub(r\"([.!?])\", r\" \\1\", s)\n",
    "    s = re.sub(r\"[^a-zA-Z.!?]+\", r\" \", s)\n",
    "    s = re.sub(r\"\\s+\", r\" \", s).strip()\n",
    "    return s"
   ]
  },
  {
   "cell_type": "code",
   "execution_count": 8,
   "metadata": {},
   "outputs": [
    {
     "data": {
      "text/plain": [
       "'aa aa !s s dd ?'"
      ]
     },
     "execution_count": 8,
     "metadata": {},
     "output_type": "execute_result"
    }
   ],
   "source": [
    "## Test the function\n",
    "normalizeString(\"aa123aa!s's  dd?\")"
   ]
  },
  {
   "cell_type": "code",
   "execution_count": 9,
   "metadata": {},
   "outputs": [
    {
     "name": "stdout",
     "output_type": "stream",
     "text": [
      "Reading and processing file ... Please wait\n",
      "Done reading\n"
     ]
    }
   ],
   "source": [
    "datafile = os.path.join(\"cornell movie-dialogs corpus\", \"formatted_movie_lines.txt\")\n",
    "# Read the file and split into lines\n",
    "print(\"Reading and processing file ... Please wait\")\n",
    "lines = open(datafile, encoding='utf-8').read().strip().split('\\n')\n",
    "# Split every line into pairs and normalize\n",
    "pairs = [[normalizeString(s) for s in l.split('\\t')] for l in lines]\n",
    "print(\"Done reading\")\n",
    "voc = Vocabulary(\"cornell movie-dialogs corpus\")"
   ]
  },
  {
   "cell_type": "code",
   "execution_count": 10,
   "metadata": {},
   "outputs": [
    {
     "name": "stdout",
     "output_type": "stream",
     "text": [
      "221282\n"
     ]
    }
   ],
   "source": [
    "print(len(pairs))"
   ]
  },
  {
   "cell_type": "code",
   "execution_count": 11,
   "metadata": {},
   "outputs": [],
   "source": [
    "MAX_LENGTH = 10  # Maximum sentence length to consider (max words)\n",
    "\n",
    "# Returns True iff both sentences in a pair 'p' are under the MAX_LENGTH threshold\n",
    "def filterPair(p):\n",
    "    # Input sequences need to preserve the last word for EOS token\n",
    "    return len(p[0].split(' ')) < MAX_LENGTH and len(p[1].split(' ')) < MAX_LENGTH\n",
    "\n",
    "# Filter pairs using filterPair condition\n",
    "def filterPairs(pairs):\n",
    "    return [pair for pair in pairs if filterPair(pair)]"
   ]
  },
  {
   "cell_type": "code",
   "execution_count": 12,
   "metadata": {},
   "outputs": [
    {
     "name": "stdout",
     "output_type": "stream",
     "text": [
      "There are 221282 pairs/conversations in the dataset\n",
      "After filtering, there are 64271 pairs/conversations in the dataset\n"
     ]
    }
   ],
   "source": [
    "print('There are {} pairs/conversations in the dataset'.format(len(pairs)))\n",
    "\n",
    "pairs = filterPairs(pairs)\n",
    "print('After filtering, there are {} pairs/conversations in the dataset'.format(len(pairs)))"
   ]
  },
  {
   "cell_type": "code",
   "execution_count": 13,
   "metadata": {},
   "outputs": [
    {
     "name": "stdout",
     "output_type": "stream",
     "text": [
      "Counted words: 18008\n",
      "['there .', 'where ?']\n",
      "['you have my word . as a gentleman', 'you re sweet .']\n",
      "['hi .', 'looks like things worked out tonight huh ?']\n",
      "['you know chastity ?', 'i believe we share an art instructor']\n",
      "['have fun tonight ?', 'tons']\n",
      "['well no . . .', 'then that s all you had to say .']\n",
      "['then that s all you had to say .', 'but']\n",
      "['but', 'you always been this selfish ?']\n",
      "['do you listen to this crap ?', 'what crap ?']\n",
      "['what good stuff ?', 'the real you .']\n"
     ]
    }
   ],
   "source": [
    "# Loop through each pair and add the question and response sentence to the vocabulary\n",
    "for pair in pairs:\n",
    "    voc.addSentence(pair[0])\n",
    "    voc.addSentence(pair[1])\n",
    "print(\"Counted words:\", voc.num_words)\n",
    "for pair in pairs[:10]:\n",
    "    print(pair)"
   ]
  },
  {
   "cell_type": "code",
   "execution_count": 14,
   "metadata": {},
   "outputs": [
    {
     "name": "stdout",
     "output_type": "stream",
     "text": [
      "keep_words 7823 / 18005 = 0.4345\n",
      "Trimmed from 64271 pairs to 53165, 0.8272 of total\n"
     ]
    }
   ],
   "source": [
    "MIN_COUNT = 3    # Minimum word count threshold for trimming\n",
    "\n",
    "def trimRareWords(voc, pairs, MIN_COUNT):\n",
    "    # Trim words used under the MIN_COUNT from the voc\n",
    "    voc.trim(MIN_COUNT)\n",
    "    # Filter out pairs with trimmed words\n",
    "    keep_pairs = []\n",
    "    for pair in pairs:\n",
    "        input_sentence = pair[0]\n",
    "        output_sentence = pair[1]\n",
    "        keep_input = True\n",
    "        keep_output = True\n",
    "        # Check input sentence\n",
    "        for word in input_sentence.split(' '):\n",
    "            if word not in voc.word2index:\n",
    "                keep_input = False\n",
    "                break\n",
    "        # Check output sentence\n",
    "        for word in output_sentence.split(' '):\n",
    "            if word not in voc.word2index:\n",
    "                keep_output = False\n",
    "                break\n",
    "\n",
    "        # Only keep pairs that do not contain trimmed word(s) in their input or output sentence\n",
    "        if keep_input and keep_output:\n",
    "            keep_pairs.append(pair)\n",
    "\n",
    "    print(\"Trimmed from {} pairs to {}, {:.4f} of total\".format(len(pairs), len(keep_pairs), len(keep_pairs) / len(pairs)))\n",
    "    return keep_pairs\n",
    "\n",
    "\n",
    "# Trim voc and pairs\n",
    "pairs = trimRareWords(voc, pairs, MIN_COUNT)"
   ]
  },
  {
   "cell_type": "markdown",
   "metadata": {},
   "source": [
    "### Prepare Data for Models"
   ]
  },
  {
   "cell_type": "code",
   "execution_count": 15,
   "metadata": {},
   "outputs": [],
   "source": [
    "# This function replaces each word with its corresponding token. It adds EOS token to the end of the sentence.\n",
    "def indexesFromSentence(voc, sentence):\n",
    "    return [voc.word2index[word] for word in sentence.split(' ')] + [EOS_token]"
   ]
  },
  {
   "cell_type": "code",
   "execution_count": 16,
   "metadata": {},
   "outputs": [
    {
     "data": {
      "text/plain": [
       "[7, 8, 9, 10, 4, 11, 12, 13, 2]"
      ]
     },
     "execution_count": 16,
     "metadata": {},
     "output_type": "execute_result"
    }
   ],
   "source": [
    "# Test the function\n",
    "indexesFromSentence(voc, pairs[1][0])"
   ]
  },
  {
   "cell_type": "code",
   "execution_count": 17,
   "metadata": {},
   "outputs": [
    {
     "name": "stdout",
     "output_type": "stream",
     "text": [
      "['there .', 'you have my word . as a gentleman', 'hi .', 'have fun tonight ?', 'well no . . .', 'then that s all you had to say .', 'but', 'do you listen to this crap ?', 'what good stuff ?', 'wow']\n",
      "10\n",
      "[[3, 4, 2], [7, 8, 9, 10, 4, 11, 12, 13, 2], [16, 4, 2], [8, 31, 22, 6, 2], [33, 34, 4, 4, 4, 2], [35, 36, 37, 38, 7, 39, 40, 41, 4, 2], [42, 2], [47, 7, 48, 40, 45, 49, 6, 2], [50, 51, 52, 6, 2], [58, 2]]\n"
     ]
    }
   ],
   "source": [
    "# Define some samples for testing\n",
    "inp = []\n",
    "out = []\n",
    "for pair in pairs[:10]:\n",
    "    inp.append(pair[0])\n",
    "    out.append(pair[1])\n",
    "    \n",
    "print(inp)\n",
    "print(len(inp))\n",
    "indexes = [indexesFromSentence(voc, sentence) for sentence in inp]\n",
    "print(indexes)"
   ]
  },
  {
   "cell_type": "code",
   "execution_count": 18,
   "metadata": {},
   "outputs": [],
   "source": [
    "'''We want inputs in the shapes (max_length, batch_size). So, we should add zero to shorter sentence \n",
    "    to have the sentences with the same length'''\n",
    "\n",
    "def zeroPadding(l, fillvalue=0):\n",
    "    return list(itertools.zip_longest(*l, fillvalue=fillvalue))"
   ]
  },
  {
   "cell_type": "code",
   "execution_count": 19,
   "metadata": {},
   "outputs": [
    {
     "data": {
      "text/plain": [
       "10"
      ]
     },
     "execution_count": 19,
     "metadata": {},
     "output_type": "execute_result"
    }
   ],
   "source": [
    "leng = [len(ind) for ind in indexes]\n",
    "max(leng)"
   ]
  },
  {
   "cell_type": "code",
   "execution_count": 20,
   "metadata": {},
   "outputs": [
    {
     "name": "stdout",
     "output_type": "stream",
     "text": [
      "10\n"
     ]
    },
    {
     "data": {
      "text/plain": [
       "[(3, 7, 16, 8, 33, 35, 42, 47, 50, 58),\n",
       " (4, 8, 4, 31, 34, 36, 2, 7, 51, 2),\n",
       " (2, 9, 2, 22, 4, 37, 0, 48, 52, 0),\n",
       " (0, 10, 0, 6, 4, 38, 0, 40, 6, 0),\n",
       " (0, 4, 0, 2, 4, 7, 0, 45, 2, 0),\n",
       " (0, 11, 0, 0, 2, 39, 0, 49, 0, 0),\n",
       " (0, 12, 0, 0, 0, 40, 0, 6, 0, 0),\n",
       " (0, 13, 0, 0, 0, 41, 0, 2, 0, 0),\n",
       " (0, 2, 0, 0, 0, 4, 0, 0, 0, 0),\n",
       " (0, 0, 0, 0, 0, 2, 0, 0, 0, 0)]"
      ]
     },
     "execution_count": 20,
     "metadata": {},
     "output_type": "execute_result"
    }
   ],
   "source": [
    "# Test the function\n",
    "test_result = zeroPadding(indexes)\n",
    "print(len(test_result))  # the max length is the number of rows\n",
    "test_result"
   ]
  },
  {
   "cell_type": "code",
   "execution_count": 21,
   "metadata": {},
   "outputs": [],
   "source": [
    "'''The binary mask tensor has the same shape as the output target tensor,\n",
    "but every element that is a PAD_token is 0 and all others are 1.'''\n",
    "\n",
    "def binaryMatrix(l, value=PAD_token):\n",
    "    m = []\n",
    "    for i, seq in enumerate(l):\n",
    "        m.append([])\n",
    "        for token in seq:\n",
    "            if token == PAD_token: \n",
    "                m[i].append(0)\n",
    "            else:\n",
    "                m[i].append(1)\n",
    "                \n",
    "    return m             "
   ]
  },
  {
   "cell_type": "code",
   "execution_count": 22,
   "metadata": {},
   "outputs": [
    {
     "data": {
      "text/plain": [
       "[[1, 1, 1, 1, 1, 1, 1, 1, 1, 1],\n",
       " [1, 1, 1, 1, 1, 1, 1, 1, 1, 1],\n",
       " [1, 1, 1, 1, 1, 1, 0, 1, 1, 0],\n",
       " [0, 1, 0, 1, 1, 1, 0, 1, 1, 0],\n",
       " [0, 1, 0, 1, 1, 1, 0, 1, 1, 0],\n",
       " [0, 1, 0, 0, 1, 1, 0, 1, 0, 0],\n",
       " [0, 1, 0, 0, 0, 1, 0, 1, 0, 0],\n",
       " [0, 1, 0, 0, 0, 1, 0, 1, 0, 0],\n",
       " [0, 1, 0, 0, 0, 1, 0, 0, 0, 0],\n",
       " [0, 0, 0, 0, 0, 1, 0, 0, 0, 0]]"
      ]
     },
     "execution_count": 22,
     "metadata": {},
     "output_type": "execute_result"
    }
   ],
   "source": [
    "# Test the function\n",
    "binary_result = binaryMatrix(test_result)\n",
    "binary_result"
   ]
  },
  {
   "cell_type": "code",
   "execution_count": 23,
   "metadata": {},
   "outputs": [],
   "source": [
    "# Returns padded input sequence tensor and lengths\n",
    "def inputVar(l, voc):\n",
    "    indexes_batch = [indexesFromSentence(voc, sentence) for sentence in l]\n",
    "    lengths = torch.tensor([len(indexes) for indexes in indexes_batch])\n",
    "    padList = zeroPadding(indexes_batch)\n",
    "    padVar = torch.LongTensor(padList)\n",
    "    return padVar, lengths\n",
    "\n",
    "# Returns padded target sequence tensor, padding mask, and max target length\n",
    "def outputVar(l, voc):\n",
    "    indexes_batch = [indexesFromSentence(voc, sentence) for sentence in l]\n",
    "    max_target_len = max([len(indexes) for indexes in indexes_batch])\n",
    "    padList = zeroPadding(indexes_batch)\n",
    "    mask = binaryMatrix(padList)\n",
    "    mask = torch.ByteTensor(mask)\n",
    "    padVar = torch.LongTensor(padList)\n",
    "    return padVar, mask, max_target_len"
   ]
  },
  {
   "cell_type": "code",
   "execution_count": 24,
   "metadata": {},
   "outputs": [],
   "source": [
    "# Returns all items for a given batch of pairs\n",
    "def batch2TrainData(voc, pair_batch):\n",
    "    pair_batch.sort(key=lambda x: len(x[0].split(\" \")), reverse=True)\n",
    "    input_batch, output_batch = [], []\n",
    "    for pair in pair_batch:\n",
    "        input_batch.append(pair[0])\n",
    "        output_batch.append(pair[1])\n",
    "    inp, lengths = inputVar(input_batch, voc)\n",
    "    output, mask, max_target_len = outputVar(output_batch, voc)\n",
    "    return inp, lengths, output, mask, max_target_len"
   ]
  },
  {
   "cell_type": "code",
   "execution_count": 25,
   "metadata": {},
   "outputs": [
    {
     "name": "stdout",
     "output_type": "stream",
     "text": [
      "input_variable: tensor([[  25,   50,   35,   77,  464],\n",
      "        [ 200,  115,   27,    6,    6],\n",
      "        [  67,  169,  132,    2,    2],\n",
      "        [ 192,    7,   60,    0,    0],\n",
      "        [ 101,   22,  480,    0,    0],\n",
      "        [  37,    6,    6,    0,    0],\n",
      "        [  12,    2,    2,    0,    0],\n",
      "        [1463,    0,    0,    0,    0],\n",
      "        [   4,    0,    0,    0,    0],\n",
      "        [   2,    0,    0,    0,    0]])\n",
      "lengths: tensor([10,  7,  7,  3,  3])\n",
      "target_variable: tensor([[  33,  197,   35, 1533,  372],\n",
      "        [  50,  117,   27,    4,    4],\n",
      "        [  80,   25,  132,    2,    2],\n",
      "        [   7,  384,   60,    0,    0],\n",
      "        [ 614, 1804,  480,    0,    0],\n",
      "        [ 174,    9,    4,    0,    0],\n",
      "        [   4,  862,    2,    0,    0],\n",
      "        [   2,    6,    0,    0,    0],\n",
      "        [   0,    2,    0,    0,    0]])\n",
      "mask: tensor([[1, 1, 1, 1, 1],\n",
      "        [1, 1, 1, 1, 1],\n",
      "        [1, 1, 1, 1, 1],\n",
      "        [1, 1, 1, 0, 0],\n",
      "        [1, 1, 1, 0, 0],\n",
      "        [1, 1, 1, 0, 0],\n",
      "        [1, 1, 1, 0, 0],\n",
      "        [1, 1, 0, 0, 0],\n",
      "        [0, 1, 0, 0, 0]], dtype=torch.uint8)\n",
      "max_target_len: 9\n"
     ]
    }
   ],
   "source": [
    "# Example for validation\n",
    "# The shape of the input variable and target variable will be: (max_length , batch_size)\n",
    "small_batch_size = 5\n",
    "batches = batch2TrainData(voc, [random.choice(pairs) for _ in range(small_batch_size)])\n",
    "input_variable, lengths, target_variable, mask, max_target_len = batches\n",
    "\n",
    "print(\"input_variable:\", input_variable)\n",
    "print(\"lengths:\", lengths)\n",
    "print(\"target_variable:\", target_variable)\n",
    "print(\"mask:\", mask)\n",
    "print(\"max_target_len:\", max_target_len)"
   ]
  },
  {
   "cell_type": "markdown",
   "metadata": {},
   "source": [
    "### Defining The Models"
   ]
  },
  {
   "cell_type": "markdown",
   "metadata": {},
   "source": [
    "The goal of a seq2seq model is to take a variable-length sequence as an input, and return a variable-length sequence as an output using a fixed-sized model.\n",
    "\n",
    "We will use a bidirectional variant of the GRU, meaning that there are essentially two independent RNNs: one that is fed the input sequence in normal sequential order, and one that is fed the input sequence in reverse order. The outputs of each network are summed at each time step. Using a bidirectional GRU will give us the advantage of encoding both past and future context."
   ]
  },
  {
   "cell_type": "markdown",
   "metadata": {},
   "source": [
    "#### Encoder"
   ]
  },
  {
   "cell_type": "code",
   "execution_count": 26,
   "metadata": {},
   "outputs": [],
   "source": [
    "class EncoderRNN(nn.Module):\n",
    "    def __init__(self, hidden_size, embedding, n_layers=1, dropout=0):\n",
    "        super(EncoderRNN, self).__init__()\n",
    "        self.n_layers = n_layers\n",
    "        self.hidden_size = hidden_size\n",
    "        self.embedding = embedding\n",
    "\n",
    "        # Initialize GRU; the input_size and hidden_size params are both set to 'hidden_size'\n",
    "        #   because our input size is a word embedding with number of features == hidden_size\n",
    "        self.gru = nn.GRU(hidden_size, hidden_size, n_layers, \n",
    "                          dropout=(0 if n_layers == 1 else dropout), bidirectional=True)\n",
    "\n",
    "    def forward(self, input_seq, input_lengths, hidden=None):\n",
    "        \n",
    "        '''\n",
    "        input_seq: batch of input sentences; shape=(max_length, batch_size)\n",
    "        input_lengths: list of sentence lengths corresponding to each sentence in the batch; shape=(batch_size)\n",
    "        hidden: hidden state; shape=(n_layers x num_directions, batch_size, hidden_size)\n",
    "        '''\n",
    "        \n",
    "        # Convert word indexes to embeddings\n",
    "        embedded = self.embedding(input_seq)\n",
    "        # Pack padded batch of sequences for RNN module\n",
    "        packed = torch.nn.utils.rnn.pack_padded_sequence(embedded, input_lengths)\n",
    "        # Forward pass through GRU\n",
    "        outputs, hidden = self.gru(packed, hidden)\n",
    "        # Unpack padding\n",
    "        outputs, _ = torch.nn.utils.rnn.pad_packed_sequence(outputs)\n",
    "        # Sum bidirectional GRU outputs\n",
    "        outputs = outputs[:, :, :self.hidden_size] + outputs[:, : ,self.hidden_size:]\n",
    "        # Return output and final hidden state\n",
    "        return outputs, hidden\n",
    "        \n",
    "        '''\n",
    "        outputs: output features from the last hidden layer of the GRU (sum of bidirectional outputs); shape=(max_length, batch_size, hidden_size)\n",
    "        hidden: updated hidden state from GRU; shape=(n_layers x num_directions, batch_size, hidden_size)\n",
    "        '''"
   ]
  },
  {
   "cell_type": "markdown",
   "metadata": {},
   "source": [
    "### Decoder\n",
    "The decoder RNN generates the response sentence in a token-by-token fashion.\n",
    "\n",
    "It consists of different modules. one of the important module is \"attention mechanism\". It allows the decoder pays attention to different parts of the input sequence. "
   ]
  },
  {
   "cell_type": "code",
   "execution_count": 27,
   "metadata": {},
   "outputs": [],
   "source": [
    "# Luong attention layer\n",
    "class Attn(torch.nn.Module):\n",
    "    def __init__(self, method, hidden_size):\n",
    "        super(Attn, self).__init__()\n",
    "        self.method = method\n",
    "        self.hidden_size = hidden_size\n",
    "\n",
    "    def dot_score(self, hidden, encoder_output):\n",
    "        # Element-wise the current target decoder state with the encoder output and sum them.\n",
    "        return torch.sum(hidden * encoder_output, dim=2)\n",
    "\n",
    "\n",
    "    def forward(self, hidden, encoder_outputs):\n",
    "        '''\n",
    "        Calculate the attention weights (energies) based on the given method\n",
    "        hidden shape: (1, batch_size, hidden_size)\n",
    "        encoder_outputs shape: (max_length, batch_size, hidden_size)\n",
    "        (1, batch_size, hidden_size) * (max_length, batch_size, hidden_size) = (max_length, batch_size, hidden_size)\n",
    "        '''\n",
    "        attn_energies = self.dot_score(hidden, encoder_outputs)  # (max_length, batch_size)\n",
    "\n",
    "        # Transpose max_length and batch_size dimensions\n",
    "        attn_energies = attn_energies.t()        # (batch_size, max_length)\n",
    "\n",
    "        # Return the softmax normalized probability scores (with added dimension)\n",
    "        return F.softmax(attn_energies, dim=1).unsqueeze(1)   # (batch_size, 1, max_length)"
   ]
  },
  {
   "cell_type": "code",
   "execution_count": 28,
   "metadata": {},
   "outputs": [],
   "source": [
    "class LuongAttnDecoderRNN(nn.Module):\n",
    "    def __init__(self, attn_model, embedding, hidden_size, output_size, n_layers=1, dropout=0.1):\n",
    "        super(LuongAttnDecoderRNN, self).__init__()\n",
    "\n",
    "        # Keep for reference\n",
    "        self.attn_model = attn_model\n",
    "        self.hidden_size = hidden_size\n",
    "        self.output_size = output_size\n",
    "        self.n_layers = n_layers\n",
    "        self.dropout = dropout\n",
    "\n",
    "        # Define layers\n",
    "        self.embedding = embedding\n",
    "        self.embedding_dropout = nn.Dropout(dropout)\n",
    "        self.gru = nn.GRU(hidden_size, hidden_size, n_layers, dropout=(0 if n_layers == 1 else dropout))\n",
    "        self.concat = nn.Linear(hidden_size * 2, hidden_size)\n",
    "        self.out = nn.Linear(hidden_size, output_size)\n",
    "\n",
    "        self.attn = Attn(attn_model, hidden_size)\n",
    "    \n",
    "    def forward(self, input_step, last_hidden, encoder_outputs):\n",
    "        # Note: we run this one step (word) at a time\n",
    "        # Get embedding of current input word\n",
    "        embedded = self.embedding(input_step)\n",
    "        embedded = self.embedding_dropout(embedded)\n",
    "        # Forward through unidirectional GRU\n",
    "        rnn_output, hidden = self.gru(embedded, last_hidden)\n",
    "        # Calculate attention weights from the current GRU output\n",
    "        attn_weights = self.attn(rnn_output, encoder_outputs)\n",
    "        # Multiply attention weights to encoder outputs to get new \"weighted sum\" context vector\n",
    "        context = attn_weights.bmm(encoder_outputs.transpose(0, 1))\n",
    "        # Concatenate weighted context vector and GRU output using Luong eq. 5\n",
    "        rnn_output = rnn_output.squeeze(0)\n",
    "        context = context.squeeze(1)\n",
    "        concat_input = torch.cat((rnn_output, context), 1)\n",
    "        concat_output = torch.tanh(self.concat(concat_input))\n",
    "        # Predict next word using Luong eq. 6\n",
    "        output = self.out(concat_output)\n",
    "        output = F.softmax(output, dim=1)\n",
    "        # Return output and final hidden state\n",
    "        return output, hidden\n",
    "    \n",
    "    '''\n",
    "    output: softmax normalized tensor giving probabilities of each word being the correct next word in the decoded sequence; shape=(batch_size, voc.num_words)\n",
    "    hidden: final hidden state of GRU; shape=(n_layers x num_directions, batch_size, hidden_size)\n",
    "    '''"
   ]
  },
  {
   "cell_type": "markdown",
   "metadata": {},
   "source": [
    "### Define Training Procedure\n",
    "#### Masked loss\n",
    "Since we are dealing with batches of padded sequences, we cannot simply consider all elements of the tensor when calculating loss. We define maskNLLLoss to calculate our loss based on our decoder’s output tensor, the target tensor, and a binary mask tensor describing the padding of the target tensor. This loss function calculates the average negative log likelihood of the elements that correspond to a 1 in the mask tensor."
   ]
  },
  {
   "cell_type": "code",
   "execution_count": 29,
   "metadata": {},
   "outputs": [],
   "source": [
    "def maskNLLLoss(inp, target, mask):\n",
    "    nTotal = mask.sum()\n",
    "    crossEntropy = -torch.log(torch.gather(inp, 1, target.view(-1, 1)).squeeze(1))\n",
    "    loss = crossEntropy.masked_select(mask).mean()\n",
    "    loss = loss.to(device)\n",
    "    return loss, nTotal.item()"
   ]
  },
  {
   "cell_type": "code",
   "execution_count": 30,
   "metadata": {},
   "outputs": [
    {
     "name": "stdout",
     "output_type": "stream",
     "text": [
      "input variable shape: torch.Size([10, 5])\n",
      "target shape: torch.Size([5])\n",
      "target variable shape: torch.Size([7, 5])\n",
      "mask_shape:  torch.Size([7, 5])\n",
      "max_target_len: 7\n",
      "Encoder output shape: torch.Size([10, 5, 500])\n",
      "Last encoder hidden shape torch.Size([4, 5, 500])\n",
      "Initial Decoder Input Shape: torch.Size([1, 5])\n",
      "tensor([[1, 1, 1, 1, 1]], device='cuda:0')\n",
      "Initial Decoder Hidden State Shape: torch.Size([2, 5, 500])\n",
      "\n",
      "\n",
      "-----------------------------------------------------------\n",
      "Now let's look what is happening in every timesteps of GRU\n",
      "-----------------------------------------------------------\n",
      "\n",
      "\n",
      "Decoder Output Shape: torch.Size([5, 7826])\n",
      "Decoder Hidden Shape: torch.Size([2, 5, 500])\n",
      "The target variable at the current timestep before reshaping: tensor([ 67,  25, 100, 124,  50], device='cuda:0')\n",
      "The target variable shape at the current timestep before reshaping: torch.Size([5])\n",
      "The decoder input shape (reshape the target variable): torch.Size([1, 5])\n",
      "The mask at the current timestep: tensor([1, 1, 1, 1, 1], device='cuda:0', dtype=torch.uint8)\n",
      "The mask shape at the current timestep: torch.Size([5])\n",
      "Mask Loss: tensor(8.9345, device='cuda:0', grad_fn=<MeanBackward1>)\n",
      "Total 5\n",
      "[44.67241287231445]\n",
      "5\n",
      "Returned Loss: 8.93448257446289\n",
      "\n",
      "\n",
      "-----------------DONE ONE TIMESTEP-----------------------\n",
      "\n",
      "\n",
      "Decoder Output Shape: torch.Size([5, 7826])\n",
      "Decoder Hidden Shape: torch.Size([2, 5, 500])\n",
      "The target variable at the current timestep before reshaping: tensor([ 12, 247,   6, 318,  80], device='cuda:0')\n",
      "The target variable shape at the current timestep before reshaping: torch.Size([5])\n",
      "The decoder input shape (reshape the target variable): torch.Size([1, 5])\n",
      "The mask at the current timestep: tensor([1, 1, 1, 1, 1], device='cuda:0', dtype=torch.uint8)\n",
      "The mask shape at the current timestep: torch.Size([5])\n",
      "Mask Loss: tensor(8.9357, device='cuda:0', grad_fn=<MeanBackward1>)\n",
      "Total 5\n",
      "[44.67241287231445, 44.67855453491211]\n",
      "10\n",
      "Returned Loss: 8.935096740722656\n",
      "\n",
      "\n",
      "-----------------DONE ONE TIMESTEP-----------------------\n",
      "\n",
      "\n",
      "Decoder Output Shape: torch.Size([5, 7826])\n",
      "Decoder Hidden Shape: torch.Size([2, 5, 500])\n",
      "The target variable at the current timestep before reshaping: tensor([735, 117,   2,  66,   6], device='cuda:0')\n",
      "The target variable shape at the current timestep before reshaping: torch.Size([5])\n",
      "The decoder input shape (reshape the target variable): torch.Size([1, 5])\n",
      "The mask at the current timestep: tensor([1, 1, 1, 1, 1], device='cuda:0', dtype=torch.uint8)\n",
      "The mask shape at the current timestep: torch.Size([5])\n",
      "Mask Loss: tensor(8.9842, device='cuda:0', grad_fn=<MeanBackward1>)\n",
      "Total 5\n",
      "[44.67241287231445, 44.67855453491211, 44.921112060546875]\n",
      "15\n",
      "Returned Loss: 8.951471964518229\n",
      "\n",
      "\n",
      "-----------------DONE ONE TIMESTEP-----------------------\n",
      "\n",
      "\n",
      "Decoder Output Shape: torch.Size([5, 7826])\n",
      "Decoder Hidden Shape: torch.Size([2, 5, 500])\n",
      "The target variable at the current timestep before reshaping: tensor([1276,   41,    0,   96,    2], device='cuda:0')\n",
      "The target variable shape at the current timestep before reshaping: torch.Size([5])\n",
      "The decoder input shape (reshape the target variable): torch.Size([1, 5])\n",
      "The mask at the current timestep: tensor([1, 1, 0, 1, 1], device='cuda:0', dtype=torch.uint8)\n",
      "The mask shape at the current timestep: torch.Size([5])\n",
      "Mask Loss: tensor(8.9775, device='cuda:0', grad_fn=<MeanBackward1>)\n",
      "Total 4\n",
      "[44.67241287231445, 44.67855453491211, 44.921112060546875, 35.9100227355957]\n",
      "19\n",
      "Returned Loss: 8.956952747545744\n",
      "\n",
      "\n",
      "-----------------DONE ONE TIMESTEP-----------------------\n",
      "\n",
      "\n",
      "Decoder Output Shape: torch.Size([5, 7826])\n",
      "Decoder Hidden Shape: torch.Size([2, 5, 500])\n",
      "The target variable at the current timestep before reshaping: tensor([  24,  371,    0, 7238,    0], device='cuda:0')\n",
      "The target variable shape at the current timestep before reshaping: torch.Size([5])\n",
      "The decoder input shape (reshape the target variable): torch.Size([1, 5])\n",
      "The mask at the current timestep: tensor([1, 1, 0, 1, 0], device='cuda:0', dtype=torch.uint8)\n",
      "The mask shape at the current timestep: torch.Size([5])\n",
      "Mask Loss: tensor(8.9820, device='cuda:0', grad_fn=<MeanBackward1>)\n",
      "Total 3\n",
      "[44.67241287231445, 44.67855453491211, 44.921112060546875, 35.9100227355957, 26.94602680206299]\n",
      "22\n",
      "Returned Loss: 8.960369500246914\n",
      "\n",
      "\n",
      "-----------------DONE ONE TIMESTEP-----------------------\n",
      "\n",
      "\n",
      "Decoder Output Shape: torch.Size([5, 7826])\n",
      "Decoder Hidden Shape: torch.Size([2, 5, 500])\n",
      "The target variable at the current timestep before reshaping: tensor([ 4,  4,  0, 66,  0], device='cuda:0')\n",
      "The target variable shape at the current timestep before reshaping: torch.Size([5])\n",
      "The decoder input shape (reshape the target variable): torch.Size([1, 5])\n",
      "The mask at the current timestep: tensor([1, 1, 0, 1, 0], device='cuda:0', dtype=torch.uint8)\n",
      "The mask shape at the current timestep: torch.Size([5])\n",
      "Mask Loss: tensor(9.0025, device='cuda:0', grad_fn=<MeanBackward1>)\n",
      "Total 3\n",
      "[44.67241287231445, 44.67855453491211, 44.921112060546875, 35.9100227355957, 26.94602680206299, 27.007450103759766]\n",
      "25\n",
      "Returned Loss: 8.965423164367676\n",
      "\n",
      "\n",
      "-----------------DONE ONE TIMESTEP-----------------------\n",
      "\n",
      "\n",
      "Decoder Output Shape: torch.Size([5, 7826])\n",
      "Decoder Hidden Shape: torch.Size([2, 5, 500])\n",
      "The target variable at the current timestep before reshaping: tensor([2, 2, 0, 2, 0], device='cuda:0')\n",
      "The target variable shape at the current timestep before reshaping: torch.Size([5])\n",
      "The decoder input shape (reshape the target variable): torch.Size([1, 5])\n",
      "The mask at the current timestep: tensor([1, 1, 0, 1, 0], device='cuda:0', dtype=torch.uint8)\n",
      "The mask shape at the current timestep: torch.Size([5])\n",
      "Mask Loss: tensor(9.0323, device='cuda:0', grad_fn=<MeanBackward1>)\n",
      "Total 3\n",
      "[44.67241287231445, 44.67855453491211, 44.921112060546875, 35.9100227355957, 26.94602680206299, 27.007450103759766, 27.09675407409668]\n",
      "28\n",
      "Returned Loss: 8.972583327974592\n",
      "\n",
      "\n",
      "-----------------DONE ONE TIMESTEP-----------------------\n",
      "\n",
      "\n"
     ]
    }
   ],
   "source": [
    "## Visualizing what is happening during one iteration. Only run this for visualization\n",
    "small_batch_size = 5\n",
    "batches = batch2TrainData(voc, [random.choice(pairs) for _ in range(small_batch_size)])\n",
    "input_variable, lengths, target_variable, mask, max_target_len = batches\n",
    "\n",
    "print(\"input variable shape:\", input_variable.shape)\n",
    "print(\"target shape:\", lengths.shape)\n",
    "print(\"target variable shape:\", target_variable.shape)\n",
    "print(\"mask_shape: \", mask.shape)\n",
    "print(\"max_target_len:\", max_target_len)\n",
    "\n",
    "# Define the parameters\n",
    "hidden_size = 500\n",
    "encoder_n_layer = 2 \n",
    "decoder_n_layer = 2 \n",
    "dropout = 0.1\n",
    "attn_model = 'dot'\n",
    "embedding = nn.Embedding(voc.num_words, hidden_size)\n",
    "\n",
    "# Define the Encoder and Decoder\n",
    "encoder = EncoderRNN(hidden_size, embedding, encoder_n_layer, dropout)\n",
    "decoder = LuongAttnDecoderRNN(attn_model, embedding, hidden_size, voc.num_words, decoder_n_layer, dropout)\n",
    "encoder = encoder.to(device)\n",
    "decoder = decoder.to(device)\n",
    "\n",
    "# Ensure that dropout layers are in train mode\n",
    "encoder.train()\n",
    "decoder.train()\n",
    "\n",
    "\n",
    "encoder_optimizer = optim.Adam(encoder.parameters(), lr=0.0001)\n",
    "decoder_optimizer = optim.Adam(decoder.parameters(), lr=0.0001)\n",
    "encoder_optimizer.zero_grad()\n",
    "decoder_optimizer.zero_grad()\n",
    "\n",
    "# Set device options\n",
    "input_variable = input_variable.to(device)\n",
    "lengths = lengths.to(device)\n",
    "target_variable = target_variable.to(device)\n",
    "mask = mask.to(device)\n",
    "\n",
    "# Initialize variables\n",
    "loss = 0\n",
    "print_losses = []\n",
    "n_totals = 0\n",
    "\n",
    "# Forward pass through encoder\n",
    "encoder_outputs, encoder_hidden = encoder(input_variable, lengths)\n",
    "print('Encoder output shape:', encoder_outputs.shape)\n",
    "print('Last encoder hidden shape', encoder_hidden.shape)\n",
    "\n",
    "# Create initial decoder input (start with SOS tokens for each sentence)\n",
    "decoder_input = torch.LongTensor([[SOS_token for _ in range(small_batch_size)]])\n",
    "decoder_input = decoder_input.to(device)\n",
    "print(\"Initial Decoder Input Shape:\", decoder_input.shape)\n",
    "print(decoder_input)\n",
    "\n",
    "# Set initial decoder hidden state to the encoder's final hidden state\n",
    "decoder_hidden = encoder_hidden[:decoder.n_layers]\n",
    "print(\"Initial Decoder Hidden State Shape:\", decoder_hidden.shape)\n",
    "print(\"\\n\")\n",
    "print(\"-----------------------------------------------------------\")\n",
    "print(\"Now let's look what is happening in every timesteps of GRU\")\n",
    "print(\"-----------------------------------------------------------\")\n",
    "print(\"\\n\")\n",
    "\n",
    "# Assume we are using teacher forcing\n",
    "for t in range(max_target_len):\n",
    "    decoder_output, decoder_hidden = decoder( decoder_input, decoder_hidden, encoder_outputs)\n",
    "    print(\"Decoder Output Shape:\", decoder_output.shape)\n",
    "    print(\"Decoder Hidden Shape:\", decoder_hidden.shape)\n",
    "        \n",
    "    # Teacher forcing: next input is current target\n",
    "    decoder_input = target_variable[t].view(1, -1)\n",
    "    print(\"The target variable at the current timestep before reshaping:\", target_variable[t])\n",
    "    print(\"The target variable shape at the current timestep before reshaping:\", target_variable[t].shape)\n",
    "    print(\"The decoder input shape (reshape the target variable):\", decoder_input.shape)\n",
    "    # Calculate and accumulate loss\n",
    "    mask_loss, nTotal = maskNLLLoss(decoder_output, target_variable[t], mask[t])\n",
    "    print(\"The mask at the current timestep:\", mask[t])\n",
    "    print(\"The mask shape at the current timestep:\", mask[t].shape)\n",
    "    loss += mask_loss\n",
    "    print(\"Mask Loss:\", mask_loss)\n",
    "    print(\"Total\", nTotal)\n",
    "    print_losses.append(mask_loss.item() * nTotal)\n",
    "    print(print_losses)\n",
    "    n_totals += nTotal\n",
    "    print(n_totals)\n",
    "    # Adjust model weights\n",
    "    encoder_optimizer.step()\n",
    "    decoder_optimizer.step()\n",
    "    \n",
    "    returned_loss = sum(print_losses) / n_totals\n",
    "    print(\"Returned Loss:\", returned_loss)\n",
    "    print(\"\\n\")\n",
    "    print(\"-----------------DONE ONE TIMESTEP-----------------------\")\n",
    "    print(\"\\n\")\n"
   ]
  },
  {
   "cell_type": "code",
   "execution_count": 43,
   "metadata": {},
   "outputs": [],
   "source": [
    "def train(input_variable, lengths, target_variable, mask, max_target_len, encoder, decoder, embedding,\n",
    "          encoder_optimizer, decoder_optimizer, batch_size, clip, max_length=MAX_LENGTH):\n",
    "\n",
    "    # Zero gradients\n",
    "    encoder_optimizer.zero_grad()\n",
    "    decoder_optimizer.zero_grad()\n",
    "\n",
    "    # Set device options\n",
    "    input_variable = input_variable.to(device)\n",
    "    lengths = lengths.to(device)\n",
    "    target_variable = target_variable.to(device)\n",
    "    mask = mask.to(device)\n",
    "\n",
    "    # Initialize variables\n",
    "    loss = 0\n",
    "    print_losses = []\n",
    "    n_totals = 0\n",
    "\n",
    "    # Forward pass through encoder\n",
    "    encoder_outputs, encoder_hidden = encoder(input_variable, lengths)\n",
    "\n",
    "    # Create initial decoder input (start with SOS tokens for each sentence)\n",
    "    decoder_input = torch.LongTensor([[SOS_token for _ in range(batch_size)]])\n",
    "    decoder_input = decoder_input.to(device)\n",
    "\n",
    "    # Set initial decoder hidden state to the encoder's final hidden state\n",
    "    decoder_hidden = encoder_hidden[:decoder.n_layers]\n",
    "\n",
    "    # Determine if we are using teacher forcing this iteration\n",
    "    use_teacher_forcing = True if random.random() < teacher_forcing_ratio else False\n",
    "\n",
    "    # Forward batch of sequences through decoder one time step at a time\n",
    "    if use_teacher_forcing:\n",
    "        for t in range(max_target_len):\n",
    "            decoder_output, decoder_hidden = decoder(\n",
    "                decoder_input, decoder_hidden, encoder_outputs\n",
    "            )\n",
    "            # Teacher forcing: next input is current target\n",
    "            decoder_input = target_variable[t].view(1, -1)\n",
    "            # Calculate and accumulate loss\n",
    "            mask_loss, nTotal = maskNLLLoss(decoder_output, target_variable[t], mask[t])\n",
    "            loss += mask_loss\n",
    "            print_losses.append(mask_loss.item() * nTotal)\n",
    "            n_totals += nTotal\n",
    "    else:\n",
    "        for t in range(max_target_len):\n",
    "            decoder_output, decoder_hidden = decoder(\n",
    "                decoder_input, decoder_hidden, encoder_outputs\n",
    "            )\n",
    "            # No teacher forcing: next input is decoder's own current output\n",
    "            _, topi = decoder_output.topk(1)\n",
    "            decoder_input = torch.LongTensor([[topi[i][0] for i in range(batch_size)]])\n",
    "            decoder_input = decoder_input.to(device)\n",
    "            # Calculate and accumulate loss\n",
    "            mask_loss, nTotal = maskNLLLoss(decoder_output, target_variable[t], mask[t])\n",
    "            loss += mask_loss\n",
    "            print_losses.append(mask_loss.item() * nTotal)\n",
    "            n_totals += nTotal\n",
    "\n",
    "    # Perform backpropatation\n",
    "    loss.backward()\n",
    "\n",
    "    # Clip gradients: gradients are modified in place\n",
    "    _ = torch.nn.utils.clip_grad_norm_(encoder.parameters(), clip)\n",
    "    _ = torch.nn.utils.clip_grad_norm_(decoder.parameters(), clip)\n",
    "\n",
    "    # Adjust model weights\n",
    "    encoder_optimizer.step()\n",
    "    decoder_optimizer.step()\n",
    "\n",
    "    return sum(print_losses) / n_totals"
   ]
  },
  {
   "cell_type": "code",
   "execution_count": null,
   "metadata": {},
   "outputs": [],
   "source": []
  }
 ],
 "metadata": {
  "kernelspec": {
   "display_name": "Python 3",
   "language": "python",
   "name": "python3"
  },
  "language_info": {
   "codemirror_mode": {
    "name": "ipython",
    "version": 3
   },
   "file_extension": ".py",
   "mimetype": "text/x-python",
   "name": "python",
   "nbconvert_exporter": "python",
   "pygments_lexer": "ipython3",
   "version": "3.7.1"
  }
 },
 "nbformat": 4,
 "nbformat_minor": 2
}
